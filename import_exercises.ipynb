{
 "cells": [
  {
   "cell_type": "markdown",
   "metadata": {},
   "source": [
    "# Exercises"
   ]
  },
  {
   "cell_type": "code",
   "execution_count": 1,
   "metadata": {},
   "outputs": [],
   "source": [
    "#1. Import and test 3 of the functions from your functions exercise file.\n",
    "\n",
    "# Import each function in a different way:\n",
    "# import the module and refer to the function with the . syntax\n",
    "# use from to import the function directly\n",
    "# use from and give the function a different name"
   ]
  },
  {
   "cell_type": "code",
   "execution_count": 3,
   "metadata": {},
   "outputs": [
    {
     "data": {
      "text/plain": [
       "True"
      ]
     },
     "execution_count": 3,
     "metadata": {},
     "output_type": "execute_result"
    }
   ],
   "source": [
    "import function_exercises\n",
    "function_exercises.is_two(2)"
   ]
  },
  {
   "cell_type": "code",
   "execution_count": 4,
   "metadata": {},
   "outputs": [
    {
     "data": {
      "text/plain": [
       "True"
      ]
     },
     "execution_count": 4,
     "metadata": {},
     "output_type": "execute_result"
    }
   ],
   "source": [
    "from function_exercises import is_vowel\n",
    "is_vowel(\"a\")"
   ]
  },
  {
   "cell_type": "code",
   "execution_count": 5,
   "metadata": {},
   "outputs": [
    {
     "data": {
      "text/plain": [
       "False"
      ]
     },
     "execution_count": 5,
     "metadata": {},
     "output_type": "execute_result"
    }
   ],
   "source": [
    "from function_exercises import is_consonant as ic\n",
    "ic(\"a\")"
   ]
  },
  {
   "cell_type": "code",
   "execution_count": 6,
   "metadata": {},
   "outputs": [],
   "source": [
    "# 2. For the following exercises, \n",
    "# read about and use the itertools module from the standard library to help you solve the problem. \n",
    "\n",
    "    #1. How many different ways can you combine the letters from \"abc\" with the numbers 1, 2, and 3?\n",
    "    #2. How many different ways can you combine two of the letters from \"abcd\"?"
   ]
  },
  {
   "cell_type": "code",
   "execution_count": 7,
   "metadata": {},
   "outputs": [],
   "source": [
    "import itertools"
   ]
  },
  {
   "cell_type": "code",
   "execution_count": 8,
   "metadata": {},
   "outputs": [
    {
     "data": {
      "text/plain": [
       "9"
      ]
     },
     "execution_count": 8,
     "metadata": {},
     "output_type": "execute_result"
    }
   ],
   "source": [
    "(len(list(itertools.product([1,2,3],'abc'))))"
   ]
  },
  {
   "cell_type": "code",
   "execution_count": 9,
   "metadata": {},
   "outputs": [
    {
     "data": {
      "text/plain": [
       "6"
      ]
     },
     "execution_count": 9,
     "metadata": {},
     "output_type": "execute_result"
    }
   ],
   "source": [
    "(len(list(itertools.combinations(\"abcd\",2))))"
   ]
  },
  {
   "cell_type": "code",
   "execution_count": 10,
   "metadata": {},
   "outputs": [],
   "source": [
    "#3. Save this file as profiles.json inside of your exercises directory. \n",
    "# Use the load function from the json module to open this file, it will produce a list of dictionaries. \n",
    "# Using this data, write some code that calculates and outputs the following information:\n",
    "\n",
    "import json\n",
    "profiles = json.load(open('profiles.json'))"
   ]
  },
  {
   "cell_type": "code",
   "execution_count": 11,
   "metadata": {},
   "outputs": [
    {
     "data": {
      "text/plain": [
       "19"
      ]
     },
     "execution_count": 11,
     "metadata": {},
     "output_type": "execute_result"
    }
   ],
   "source": [
    "# Total number of users\n",
    "len(profiles)"
   ]
  },
  {
   "cell_type": "code",
   "execution_count": 12,
   "metadata": {},
   "outputs": [
    {
     "data": {
      "text/plain": [
       "9"
      ]
     },
     "execution_count": 12,
     "metadata": {},
     "output_type": "execute_result"
    }
   ],
   "source": [
    "# Number of active users\n",
    "len([profile for profile in profiles if profile['isActive']])"
   ]
  },
  {
   "cell_type": "code",
   "execution_count": 13,
   "metadata": {},
   "outputs": [
    {
     "data": {
      "text/plain": [
       "10"
      ]
     },
     "execution_count": 13,
     "metadata": {},
     "output_type": "execute_result"
    }
   ],
   "source": [
    "# Number of inactive users\n",
    "len([profile for profile in profiles if not profile['isActive']])"
   ]
  },
  {
   "cell_type": "code",
   "execution_count": 14,
   "metadata": {},
   "outputs": [],
   "source": [
    "# Grand total of balances for all users\n",
    "def clean_balance(balance):\n",
    "    balance = balance.replace(',', '')\n",
    "    balance = balance.replace('$', '')\n",
    "    return float(balance)"
   ]
  },
  {
   "cell_type": "code",
   "execution_count": 15,
   "metadata": {},
   "outputs": [
    {
     "data": {
      "text/plain": [
       "52667.02"
      ]
     },
     "execution_count": 15,
     "metadata": {},
     "output_type": "execute_result"
    }
   ],
   "source": [
    "balances = [profile['balance'] for profile in profiles]\n",
    "balances = [balance.replace(',', '') for balance in balances]\n",
    "balances = [balance.replace('$', '') for balance in balances]\n",
    "balances = [float(balance) for balance in balances]\n",
    "sum(balances)"
   ]
  },
  {
   "cell_type": "code",
   "execution_count": 16,
   "metadata": {},
   "outputs": [
    {
     "data": {
      "text/plain": [
       "2771.9484210526316"
      ]
     },
     "execution_count": 16,
     "metadata": {},
     "output_type": "execute_result"
    }
   ],
   "source": [
    "# Average balance per user\n",
    "sum(balances) / len(balances)"
   ]
  },
  {
   "cell_type": "code",
   "execution_count": 21,
   "metadata": {},
   "outputs": [
    {
     "data": {
      "text/plain": [
       "{'_id': '54e23c3e0fd8074c2ca52667',\n",
       " 'index': 6,\n",
       " 'guid': 'af8d9a03-fde9-4039-b20c-c4708d4cfc3c',\n",
       " 'isActive': False,\n",
       " 'balance': '$1,214.10',\n",
       " 'picture': 'http://placehold.it/32x32',\n",
       " 'age': 35,\n",
       " 'eyeColor': 'green',\n",
       " 'name': 'Avery Flynn',\n",
       " 'gender': 'male',\n",
       " 'company': 'TERSANKI',\n",
       " 'email': 'averyflynn@tersanki.com',\n",
       " 'phone': '+1 (966) 404-2471',\n",
       " 'address': '569 Oakland Place, Beyerville, Puerto Rico, 2395',\n",
       " 'about': 'Minim consequat anim ad et tempor et pariatur cillum ut. Ea Lorem consectetur sunt aliquip ea minim minim id dolore incididunt qui magna. Magna velit labore dolore voluptate ut aliquip esse qui est ipsum cupidatat duis enim. Sunt esse eiusmod cupidatat duis quis sunt anim dolore adipisicing enim dolore aliqua mollit. Commodo sit ad eiusmod reprehenderit.\\r\\n',\n",
       " 'registered': '2014-04-13T10:25:03 +05:00',\n",
       " 'latitude': -89.879409,\n",
       " 'longitude': 143.441709,\n",
       " 'tags': ['quis', 'esse', 'Lorem', 'minim', 'nostrud', 'voluptate', 'laborum'],\n",
       " 'friends': [{'id': 0, 'name': 'Ball Henson'},\n",
       "  {'id': 1, 'name': 'Dalton Mccoy'},\n",
       "  {'id': 2, 'name': 'Carolina Sharp'}],\n",
       " 'greeting': 'Hello, Avery Flynn! You have 13 unread messages.',\n",
       " 'favoriteFruit': 'banana'}"
      ]
     },
     "execution_count": 21,
     "metadata": {},
     "output_type": "execute_result"
    }
   ],
   "source": [
    "# User with the lowest balance\n",
    "user_with_lowest_balance = profiles[0]\n",
    "for profile in profiles[1:]:\n",
    "    if clean_balance(profile['balance']) < clean_balance(user_with_lowest_balance['balance']):\n",
    "        user_with_lowest_balance = profile\n",
    "\n",
    "user_with_lowest_balance"
   ]
  },
  {
   "cell_type": "code",
   "execution_count": 22,
   "metadata": {},
   "outputs": [
    {
     "data": {
      "text/plain": [
       "{'_id': '54e23c3e54e4094147a3b1da',\n",
       " 'index': 3,\n",
       " 'guid': '69eb3454-8acc-46f1-a636-c6df00dfb542',\n",
       " 'isActive': False,\n",
       " 'balance': '$3,919.64',\n",
       " 'picture': 'http://placehold.it/32x32',\n",
       " 'age': 20,\n",
       " 'eyeColor': 'green',\n",
       " 'name': 'Fay Hammond',\n",
       " 'gender': 'female',\n",
       " 'company': 'INRT',\n",
       " 'email': 'fayhammond@inrt.com',\n",
       " 'phone': '+1 (922) 429-2592',\n",
       " 'address': '518 Randolph Street, Whitestone, Arizona, 8189',\n",
       " 'about': 'Aliqua sunt exercitation quis cupidatat fugiat nulla laboris occaecat ut reprehenderit qui incididunt. Amet excepteur qui amet mollit sint enim velit est dolor eu. Velit labore ea aute ipsum consequat culpa cupidatat excepteur aliqua. Sit commodo id est deserunt commodo. Labore sit deserunt enim in dolore incididunt. Officia qui est veniam cillum consequat minim duis Lorem esse magna culpa cupidatat cupidatat enim. Amet eiusmod elit qui reprehenderit commodo quis.\\r\\n',\n",
       " 'registered': '2015-01-30T08:05:38 +06:00',\n",
       " 'latitude': 33.825844,\n",
       " 'longitude': -65.969538,\n",
       " 'tags': ['aliqua', 'esse', 'sint', 'pariatur', 'commodo', 'do', 'anim'],\n",
       " 'friends': [{'id': 0, 'name': 'Dudley Booker'},\n",
       "  {'id': 1, 'name': 'Esmeralda Tyler'},\n",
       "  {'id': 2, 'name': 'Rosa Hampton'}],\n",
       " 'greeting': 'Hello, Fay Hammond! You have 10 unread messages.',\n",
       " 'favoriteFruit': 'banana'}"
      ]
     },
     "execution_count": 22,
     "metadata": {},
     "output_type": "execute_result"
    }
   ],
   "source": [
    "# User with the highest balance\n",
    "user_with_highest_balance = profiles[0]\n",
    "\n",
    "for profile in profiles[1:]:\n",
    "    if clean_balance(profile['balance']) > clean_balance(user_with_highest_balance['balance']):\n",
    "        user_with_highest_balance = profile\n",
    "\n",
    "user_with_highest_balance"
   ]
  },
  {
   "cell_type": "code",
   "execution_count": 25,
   "metadata": {},
   "outputs": [
    {
     "data": {
      "text/plain": [
       "'strawberry'"
      ]
     },
     "execution_count": 25,
     "metadata": {},
     "output_type": "execute_result"
    }
   ],
   "source": [
    "# Most common favorite fruit\n",
    "favorite_fruits = [profile['favoriteFruit'] for profile in profiles]\n",
    "favorite_fruits\n",
    "\n",
    "fruit_counts = {}\n",
    "\n",
    "for fruit in favorite_fruits:\n",
    "    if fruit in fruit_counts:\n",
    "        fruit_counts[fruit] += 1\n",
    "    else:\n",
    "        fruit_counts[fruit] = 1\n",
    "max(fruit_counts)"
   ]
  },
  {
   "cell_type": "code",
   "execution_count": 26,
   "metadata": {},
   "outputs": [
    {
     "data": {
      "text/plain": [
       "'apple'"
      ]
     },
     "execution_count": 26,
     "metadata": {},
     "output_type": "execute_result"
    }
   ],
   "source": [
    "# Least most common favorite fruit\n",
    "min(fruit_counts)"
   ]
  },
  {
   "cell_type": "code",
   "execution_count": 27,
   "metadata": {},
   "outputs": [
    {
     "data": {
      "text/plain": [
       "210"
      ]
     },
     "execution_count": 27,
     "metadata": {},
     "output_type": "execute_result"
    }
   ],
   "source": [
    "# Total number of unread messages for all users\n",
    "def extract_digits(s):\n",
    "    return ''.join([c for c in s if c.isdigit()])\n",
    "\n",
    "n_unread_messages = [extract_digits(profile['greeting']) for profile in profiles]\n",
    "sum([int(message) for message in n_unread_messages])"
   ]
  }
 ],
 "metadata": {
  "kernelspec": {
   "display_name": "Python 3",
   "language": "python",
   "name": "python3"
  },
  "language_info": {
   "codemirror_mode": {
    "name": "ipython",
    "version": 3
   },
   "file_extension": ".py",
   "mimetype": "text/x-python",
   "name": "python",
   "nbconvert_exporter": "python",
   "pygments_lexer": "ipython3",
   "version": "3.7.6"
  }
 },
 "nbformat": 4,
 "nbformat_minor": 4
}
