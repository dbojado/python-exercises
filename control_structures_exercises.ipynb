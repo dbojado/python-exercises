{
 "cells": [
  {
   "cell_type": "markdown",
   "metadata": {},
   "source": [
    "# 1. Conditional Basics"
   ]
  },
  {
   "cell_type": "code",
   "execution_count": 1,
   "metadata": {},
   "outputs": [
    {
     "name": "stdout",
     "output_type": "stream",
     "text": [
      "I hate Mondays!\n"
     ]
    }
   ],
   "source": [
    "#a. Prompt the user for a day of the week, print out whether the day is Monday or not\n",
    "it_is_Monday = True\n",
    "\n",
    "if it_is_Monday:\n",
    "    print('I hate Mondays!')"
   ]
  },
  {
   "cell_type": "code",
   "execution_count": 2,
   "metadata": {},
   "outputs": [
    {
     "name": "stdout",
     "output_type": "stream",
     "text": [
      "I have to go to work.\n"
     ]
    }
   ],
   "source": [
    "#b. Prompt the user for a day of the week, print out whether the day is a weekday or a weekend \n",
    "it_is_weekday = True\n",
    "\n",
    "if it_is_weekday:\n",
    "    print('I have to go to work.')\n",
    "else:\n",
    "    print('Party time!')"
   ]
  },
  {
   "cell_type": "code",
   "execution_count": 3,
   "metadata": {},
   "outputs": [
    {
     "name": "stdout",
     "output_type": "stream",
     "text": [
      "How many regular hours did you work? 40\n",
      "How many overtime hours did you work? 5\n",
      "Your weekly earned paycheck is $ 712.5\n"
     ]
    }
   ],
   "source": [
    "#c. Create variables and make up values for:\n",
    "# The number of hours worked in one week\n",
    "# The hourly rate\n",
    "# How much the week's paycheck will be  \n",
    "\n",
    "#Write the python code that calculates the weekly paycheck. You get paid time and a half if you work more than 40 hours\n",
    "\n",
    "hours_worked = int(input('How many regular hours did you work? '))\n",
    "overtime_hours_worked = int(input('How many overtime hours did you work? '))\n",
    "hourly_pay_rate = 15\n",
    "weekly_paycheck_regular =  (hours_worked * hourly_pay_rate) \n",
    "weekly_paycheck_overtime =  (hours_worked * hourly_pay_rate) + (hourly_pay_rate * 1.5 * overtime_hours_worked)\n",
    "if hours_worked < 40:\n",
    "    print(\"You just earned \", '$', weekly_paycheck_regular)\n",
    "else :\n",
    "    print(\"Your weekly earned paycheck is\", '$', weekly_paycheck_overtime)"
   ]
  },
  {
   "cell_type": "markdown",
   "metadata": {},
   "source": [
    "# 2. Loop Basics"
   ]
  },
  {
   "cell_type": "code",
   "execution_count": 4,
   "metadata": {},
   "outputs": [
    {
     "name": "stdout",
     "output_type": "stream",
     "text": [
      "5\n",
      "6\n",
      "7\n",
      "8\n",
      "9\n",
      "10\n",
      "11\n",
      "12\n",
      "13\n",
      "14\n",
      "15\n"
     ]
    }
   ],
   "source": [
    "#a. While\n",
    "\n",
    "# Create an integer variable i with a value of 5.\n",
    "# Create a while loop that runs so long as i is less than or equal to 15\n",
    "# Each loop iteration, output the current value of i, then increment i by one.    \n",
    "i = 5\n",
    "while i <= 15:\n",
    "    print(i)\n",
    "    i += 1"
   ]
  },
  {
   "cell_type": "code",
   "execution_count": 5,
   "metadata": {},
   "outputs": [
    {
     "name": "stdout",
     "output_type": "stream",
     "text": [
      "0\n",
      "2\n",
      "4\n",
      "6\n",
      "8\n",
      "10\n",
      "12\n",
      "14\n",
      "16\n",
      "18\n",
      "20\n",
      "22\n",
      "24\n",
      "26\n",
      "28\n",
      "30\n",
      "32\n",
      "34\n",
      "36\n",
      "38\n",
      "40\n",
      "42\n",
      "44\n",
      "46\n",
      "48\n",
      "50\n",
      "52\n",
      "54\n",
      "56\n",
      "58\n",
      "60\n",
      "62\n",
      "64\n",
      "66\n",
      "68\n",
      "70\n",
      "72\n",
      "74\n",
      "76\n",
      "78\n",
      "80\n",
      "82\n",
      "84\n",
      "86\n",
      "88\n",
      "90\n",
      "92\n",
      "94\n",
      "96\n",
      "98\n",
      "100\n"
     ]
    }
   ],
   "source": [
    "# Create a while loop that will count by 2's starting with 0 and ending at 100. Follow each number with a new line.\n",
    "counter = 0\n",
    "while counter <= 100:\n",
    "    print(counter)\n",
    "    counter += 2"
   ]
  },
  {
   "cell_type": "code",
   "execution_count": 6,
   "metadata": {},
   "outputs": [
    {
     "name": "stdout",
     "output_type": "stream",
     "text": [
      "100\n",
      "95\n",
      "90\n",
      "85\n",
      "80\n",
      "75\n",
      "70\n",
      "65\n",
      "60\n",
      "55\n",
      "50\n",
      "45\n",
      "40\n",
      "35\n",
      "30\n",
      "25\n",
      "20\n",
      "15\n",
      "10\n",
      "5\n",
      "0\n",
      "-5\n",
      "-10\n"
     ]
    }
   ],
   "source": [
    "# Alter your loop to count backwards by 5's from 100 to -10.\n",
    "counter = 100\n",
    "while counter >= -10:\n",
    "    print(counter)\n",
    "    counter -= 5"
   ]
  },
  {
   "cell_type": "code",
   "execution_count": 7,
   "metadata": {},
   "outputs": [
    {
     "name": "stdout",
     "output_type": "stream",
     "text": [
      "2\n",
      "4\n",
      "16\n",
      "256\n",
      "65536\n"
     ]
    }
   ],
   "source": [
    "# Create a while loop that starts at 2, and displays the number squared on each line while the number is less than 1,000,000. \n",
    "counter = 2\n",
    "while counter <= 1000000:\n",
    "    print(counter)\n",
    "    counter = counter ** 2"
   ]
  },
  {
   "cell_type": "code",
   "execution_count": 8,
   "metadata": {},
   "outputs": [
    {
     "name": "stdout",
     "output_type": "stream",
     "text": [
      "100\n",
      "95\n",
      "90\n",
      "85\n",
      "80\n",
      "75\n",
      "70\n",
      "65\n",
      "60\n",
      "55\n",
      "50\n",
      "45\n",
      "40\n",
      "35\n",
      "30\n",
      "25\n",
      "20\n",
      "15\n",
      "10\n",
      "5\n"
     ]
    }
   ],
   "source": [
    "#Write a loop that uses print to create the output shown below.\n",
    "counter = 100\n",
    "while counter >= 5:\n",
    "    print(counter)\n",
    "    counter -= 5"
   ]
  },
  {
   "cell_type": "code",
   "execution_count": 9,
   "metadata": {},
   "outputs": [
    {
     "name": "stdout",
     "output_type": "stream",
     "text": [
      "Input a number: 7\n",
      "7 x 1 = 7\n",
      "7 x 2 = 14\n",
      "7 x 3 = 21\n",
      "7 x 4 = 28\n",
      "7 x 5 = 35\n",
      "7 x 6 = 42\n",
      "7 x 7 = 49\n",
      "7 x 8 = 56\n",
      "7 x 9 = 63\n",
      "7 x 10 = 70\n"
     ]
    }
   ],
   "source": [
    "#b. For Loops\n",
    "#i. Write some code that prompts the user for a number, then shows a multiplication table up through 10 for that number.\n",
    "n = int(input(\"Input a number: \"))\n",
    "for i in range(1,11):\n",
    "    print(n,'x',i,'=',n*i)"
   ]
  },
  {
   "cell_type": "code",
   "execution_count": 10,
   "metadata": {},
   "outputs": [
    {
     "name": "stdout",
     "output_type": "stream",
     "text": [
      "\n",
      "1\n",
      "22\n",
      "333\n",
      "4444\n",
      "55555\n",
      "666666\n",
      "7777777\n",
      "88888888\n",
      "999999999\n"
     ]
    }
   ],
   "source": [
    "#ii. Create a for loop that uses print to create the output shown below.\n",
    "for i in range(10):\n",
    "    print(str(i) * i)"
   ]
  },
  {
   "cell_type": "code",
   "execution_count": 11,
   "metadata": {},
   "outputs": [
    {
     "name": "stdout",
     "output_type": "stream",
     "text": [
      "Please input a number between 1 and 50: \n",
      "5\n",
      "Number to skip is: 5\n",
      "\n",
      "Here is an odd number: 1\n",
      "Here is an odd number: 3\n",
      "Yikes! Skipping number: 5\n",
      "Here is an odd number: 7\n",
      "Here is an odd number: 9\n",
      "Here is an odd number: 11\n",
      "Here is an odd number: 13\n",
      "Here is an odd number: 15\n",
      "Here is an odd number: 17\n",
      "Here is an odd number: 19\n",
      "Here is an odd number: 21\n",
      "Here is an odd number: 23\n",
      "Here is an odd number: 25\n",
      "Here is an odd number: 27\n",
      "Here is an odd number: 29\n",
      "Here is an odd number: 31\n",
      "Here is an odd number: 33\n",
      "Here is an odd number: 35\n",
      "Here is an odd number: 37\n",
      "Here is an odd number: 39\n",
      "Here is an odd number: 41\n",
      "Here is an odd number: 43\n",
      "Here is an odd number: 45\n",
      "Here is an odd number: 47\n",
      "Here is an odd number: 49\n"
     ]
    }
   ],
   "source": [
    "#c. Break and Continue  \n",
    "#i. Prompt the user for an odd number between 1 and 50. Use a loop and a break statement to continue prompting the user if they enter invalid input. (Hint: use the isdigit method on strings to determine this). Use a loop and the continue statement to output all the odd numbers between 1 and 50, except for the number the user entered.\n",
    "   \n",
    "def get_odd_number_between_1_and_50():\n",
    "    while True:\n",
    "        user_number = input(\"Please input a number between 1 and 50: \\n\")\n",
    "\n",
    "        if user_number.isdigit():\n",
    "            user_number = int(user_number)\n",
    "\n",
    "            large_enough = user_number > 1\n",
    "            small_enough = user_number < 50\n",
    "            odd = user_number % 2 != 0\n",
    "\n",
    "            if large_enough and small_enough and odd:\n",
    "                break\n",
    "            else:\n",
    "                print(\"Your input must be less than 50 and odd and greater than: 1\\n\")\n",
    "        else:\n",
    "            print(\"Your input must be numerals.\\n\")\n",
    "\n",
    "    return user_number\n",
    "\n",
    "user_number = get_odd_number_between_1_and_50()\n",
    "\n",
    "print(f\"Number to skip is: {user_number}\")\n",
    "print() # prints an extra new line\n",
    "\n",
    "for i in range(1, 50, 2):\n",
    "    if i == user_number:\n",
    "        print(f\"Yikes! Skipping number: {i}\")\n",
    "        continue\n",
    "    print(f\"Here is an odd number: {i}\")"
   ]
  },
  {
   "cell_type": "code",
   "execution_count": 12,
   "metadata": {},
   "outputs": [
    {
     "name": "stdout",
     "output_type": "stream",
     "text": [
      "Please enter a positive number: 8\n",
      "0\n",
      "1\n",
      "2\n",
      "3\n",
      "4\n",
      "5\n",
      "6\n",
      "7\n",
      "8\n"
     ]
    }
   ],
   "source": [
    "# d. The input function can be used to prompt for input and use that input in your python code. Prompt the user to enter a positive number and write a loop that counts from 0 to that number. (Hints: first make sure that the value the user entered is a valid number, also note that the input function returns a string, so you'll need to convert this to a numeric type.)\n",
    "\n",
    "user_number = input(\"Please enter a positive number: \")\n",
    "\n",
    "if user_number.isdigit():\n",
    "    user_number = int(user_number)\n",
    "    if user_number >= 0:\n",
    "        for i in range(0, user_number + 1):\n",
    "            print(i)\n",
    "else: \n",
    "    print(\"Not valid entry\")"
   ]
  },
  {
   "cell_type": "code",
   "execution_count": 13,
   "metadata": {},
   "outputs": [
    {
     "name": "stdout",
     "output_type": "stream",
     "text": [
      "Please enter a positive number: 4\n",
      "4\n",
      "3\n",
      "2\n",
      "1\n"
     ]
    }
   ],
   "source": [
    "#e. Write a program that prompts the user for a positive integer. Next write a loop that prints out the numbers from the number the user entered down to 1.\n",
    "\n",
    "user_number = input(\"Please enter a positive number: \")\n",
    "\n",
    "if user_number.isdigit():\n",
    "    user_number = int(user_number)\n",
    "    if user_number >= 1:\n",
    "        for i in reversed(range(1, user_number + 1)):\n",
    "            print(i)\n",
    "else: \n",
    "    print(\"Not valid entry\")"
   ]
  },
  {
   "cell_type": "markdown",
   "metadata": {},
   "source": [
    "# 3. Fizzbuzz"
   ]
  },
  {
   "cell_type": "code",
   "execution_count": 14,
   "metadata": {},
   "outputs": [
    {
     "name": "stdout",
     "output_type": "stream",
     "text": [
      "1\n",
      "2\n",
      "Fizz\n",
      "4\n",
      "Buzz\n",
      "Fizz\n",
      "7\n",
      "8\n",
      "Fizz\n",
      "Buzz\n",
      "11\n",
      "Fizz\n",
      "13\n",
      "14\n",
      "FizzBuzz\n",
      "16\n",
      "17\n",
      "Fizz\n",
      "19\n",
      "Buzz\n",
      "Fizz\n",
      "22\n",
      "23\n",
      "Fizz\n",
      "Buzz\n",
      "26\n",
      "Fizz\n",
      "28\n",
      "29\n",
      "FizzBuzz\n",
      "31\n",
      "32\n",
      "Fizz\n",
      "34\n",
      "Buzz\n",
      "Fizz\n",
      "37\n",
      "38\n",
      "Fizz\n",
      "Buzz\n",
      "41\n",
      "Fizz\n",
      "43\n",
      "44\n",
      "FizzBuzz\n",
      "46\n",
      "47\n",
      "Fizz\n",
      "49\n",
      "Buzz\n",
      "Fizz\n",
      "52\n",
      "53\n",
      "Fizz\n",
      "Buzz\n",
      "56\n",
      "Fizz\n",
      "58\n",
      "59\n",
      "FizzBuzz\n",
      "61\n",
      "62\n",
      "Fizz\n",
      "64\n",
      "Buzz\n",
      "Fizz\n",
      "67\n",
      "68\n",
      "Fizz\n",
      "Buzz\n",
      "71\n",
      "Fizz\n",
      "73\n",
      "74\n",
      "FizzBuzz\n",
      "76\n",
      "77\n",
      "Fizz\n",
      "79\n",
      "Buzz\n",
      "Fizz\n",
      "82\n",
      "83\n",
      "Fizz\n",
      "Buzz\n",
      "86\n",
      "Fizz\n",
      "88\n",
      "89\n",
      "FizzBuzz\n",
      "91\n",
      "92\n",
      "Fizz\n",
      "94\n",
      "Buzz\n",
      "Fizz\n",
      "97\n",
      "98\n",
      "Fizz\n",
      "Buzz\n"
     ]
    }
   ],
   "source": [
    "#One of the most common interview questions for entry-level programmers is the FizzBuzz test. Developed by Imran Ghory, the test is designed to test basic looping and conditional logic skills.\n",
    "\n",
    "#Write a program that prints the numbers from 1 to 100.\n",
    "# For multiples of three print \"Fizz\" instead of the number\n",
    "# For the multiples of five print \"Buzz\".\n",
    "# For numbers which are multiples of both three and five print \"FizzBuzz\".\n",
    "\n",
    "x = 1\n",
    "a = []\n",
    "while (x <= 100):\n",
    "         a.append(x)\n",
    "         x = x + 1\n",
    "for i in a:\n",
    "    if (i % 5 == 0 and i % 3 == 0):\n",
    "        print (\"FizzBuzz\")\n",
    "    elif (i % 5 == 0):\n",
    "        print(\"Buzz\")\n",
    "    elif (i % 3 == 0):\n",
    "        print(\"Fizz\")\n",
    "    else:\n",
    "        print(i)"
   ]
  },
  {
   "cell_type": "markdown",
   "metadata": {},
   "source": [
    "# 4. Display a table of powers"
   ]
  },
  {
   "cell_type": "code",
   "execution_count": 15,
   "metadata": {},
   "outputs": [
    {
     "name": "stdout",
     "output_type": "stream",
     "text": [
      "What number would you like to go up to? 5\n",
      "======\t\t=====\t\t=====\n",
      "Number\t\tSquare\t\tCubed\n",
      "======\t\t=====\t\t=====\n",
      "1 \t\t 1 \t\t 1\n",
      "2 \t\t 4 \t\t 8\n",
      "3 \t\t 9 \t\t 27\n",
      "4 \t\t 16 \t\t 64\n",
      "5 \t\t 25 \t\t 125\n",
      "Do you want to continue? yes/no? no\n",
      "Okay, will stop!\n"
     ]
    }
   ],
   "source": [
    "# Prompt the user to enter an integer.\n",
    "# Display a table of squares and cubes from 1 to the value entered.\n",
    "# Ask if the user wants to continue.\n",
    "# Assume that the user will enter valid data.\n",
    "# Only continue if the user agrees to.  \n",
    "\n",
    "# Bonus: Research python's format string specifiers to align the table\n",
    "\n",
    "def square(i):\n",
    "    return i*i\n",
    "def cube(i):\n",
    "    return i*i*i\n",
    "  \n",
    "def main():\n",
    "    start = 1\n",
    "    end=int(input(\"What number would you like to go up to? \"))\n",
    "    \n",
    "    \n",
    "    print(\"======\\t\\t=====\\t\\t=====\")\n",
    "    print(\"Number\\t\\tSquare\\t\\tCubed\")\n",
    "    print(\"======\\t\\t=====\\t\\t=====\")\n",
    "      \n",
    "    for i in range(start,end+1):\n",
    "        print(i,\"\\t\\t\",square(i),\"\\t\\t\",cube(i))\n",
    "        \n",
    "    while True:\n",
    "        a = input(\"Do you want to continue? yes/no? \")\n",
    "        if a==\"yes\":\n",
    "            print(\"Okay, will continue!\")\n",
    "            continue\n",
    "        elif a==\"no\":\n",
    "            print(\"Okay, will stop!\")\n",
    "            break\n",
    "        else:\n",
    "            print(\"Enter either yes/no\")\n",
    "main()\n",
    "\n"
   ]
  },
  {
   "cell_type": "markdown",
   "metadata": {},
   "source": [
    "# 5. Convert given number grades into letter grades"
   ]
  },
  {
   "cell_type": "code",
   "execution_count": 17,
   "metadata": {},
   "outputs": [
    {
     "name": "stdout",
     "output_type": "stream",
     "text": [
      "Please enter a grade: 55\n",
      "55 is an F\n",
      "Would you like to continue? yes/no: yes\n",
      "Please enter a grade: 98\n",
      "98 is an A\n",
      "Would you like to continue? yes/no: no\n"
     ]
    }
   ],
   "source": [
    "# Prompt the user for a numerical grade from 0 to 100.\n",
    "# Display the corresponding letter grade.\n",
    "# Prompt the user to continue.\n",
    "# Assume that the user will enter valid integers for the grades.\n",
    "# The application should only continue if the user agrees to.  \n",
    "\n",
    "# Grade Ranges:\n",
    "\n",
    "# A : 100 - 88\n",
    "# B : 87 - 80\n",
    "# C : 79 - 67\n",
    "# D : 66 - 60\n",
    "# F : 59 - 0  \n",
    "\n",
    "# Bonus\n",
    "# Edit your grade ranges to include pluses and minuses (ex: 99-100 = A+).\n",
    "\n",
    "user_input = 'yes'\n",
    "while user_input.lower() == 'yes':\n",
    "    grade = int(input('Please enter a grade: '))\n",
    "    if grade >= 99 and grade <= 100:\n",
    "        print(f'{grade} is an A+')\n",
    "    elif grade >= 90:\n",
    "        print(f'{grade} is an A')\n",
    "    elif grade >= 88:\n",
    "        print(f'{grade} is an A-')\n",
    "    elif grade >= 86:\n",
    "        print(f'{grade} is a B+')\n",
    "    elif grade >= 82:\n",
    "        print(f'{grade} is a B')\n",
    "    elif grade >= 80:\n",
    "        print(f'{grade} is a B-')\n",
    "    elif grade >= 78:\n",
    "        print(f'{grade} is a C+')\n",
    "    elif grade >= 69:\n",
    "        print(f'{grade} is a C')\n",
    "    elif grade >= 67:\n",
    "        print(f'{grade} is a C-')\n",
    "    elif grade >= 65:\n",
    "        print(f'{grade} is a D+')\n",
    "    elif grade >= 62:\n",
    "        print(f'{grade} is a D')\n",
    "    elif grade >= 60:\n",
    "        print(f'{grade} is a D-')\n",
    "    elif grade <= 59:\n",
    "        print(f'{grade} is an F')\n",
    "    else:\n",
    "        print('Please enter a grade between 1-100')\n",
    "    user_input = input('Would you like to continue? yes/no: ')"
   ]
  },
  {
   "cell_type": "markdown",
   "metadata": {},
   "source": [
    "# 6. Create a list of dictionaries where each dictionary represents a book that you have read. "
   ]
  },
  {
   "cell_type": "code",
   "execution_count": 18,
   "metadata": {},
   "outputs": [
    {
     "name": "stdout",
     "output_type": "stream",
     "text": [
      "Please enter a genre: Artificial intelligence/Technology\n",
      "---\n",
      "title: The Singularity is Near\n",
      "author: Ray Kurzweil\n",
      "genre: Artificial intelligence/Technology\n",
      "---\n",
      "title: Rethinking Consciousness\n",
      "author: Michael Graziano\n",
      "genre: Artificial intelligence/Technology\n"
     ]
    }
   ],
   "source": [
    "# Each dictionary in the list should have the keys title, author, and genre. Loop through the list and print out information about each book.\n",
    "\n",
    "# a. Prompt the user to enter a genre, then loop through your books list and print out the titles of all the books in that genre.\n",
    "\n",
    "books = [\n",
    "    {'title': 'The Singularity is Near','author': 'Ray Kurzweil','genre': 'Artificial intelligence/Technology'},\n",
    "    {'title': 'Rethinking Consciousness','author': 'Michael Graziano','genre': 'Artificial intelligence/Technology'},\n",
    "    {'title': 'The Righteous Mind','author': 'Jonathan Haidt','genre': 'Ethics'}\n",
    "]\n",
    "\n",
    "selected_genre = input('Please enter a genre: ')\n",
    "selected_books = [book for book in books if book['genre'] == selected_genre]\n",
    "\n",
    "for book in selected_books:\n",
    "    print('---')\n",
    "    print('title: ' + book['title'])\n",
    "    print('author: ' + book['author'])\n",
    "    print('genre: ' + book['genre'])"
   ]
  }
 ],
 "metadata": {
  "kernelspec": {
   "display_name": "Python 3",
   "language": "python",
   "name": "python3"
  },
  "language_info": {
   "codemirror_mode": {
    "name": "ipython",
    "version": 3
   },
   "file_extension": ".py",
   "mimetype": "text/x-python",
   "name": "python",
   "nbconvert_exporter": "python",
   "pygments_lexer": "ipython3",
   "version": "3.7.6"
  }
 },
 "nbformat": 4,
 "nbformat_minor": 4
}
