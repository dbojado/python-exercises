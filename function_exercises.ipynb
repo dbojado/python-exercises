{
 "cells": [
  {
   "cell_type": "markdown",
   "metadata": {},
   "source": [
    "# Exercises"
   ]
  },
  {
   "cell_type": "code",
   "execution_count": 2,
   "metadata": {},
   "outputs": [
    {
     "name": "stdout",
     "output_type": "stream",
     "text": [
      "True\n",
      "True\n",
      "False\n",
      "False\n"
     ]
    }
   ],
   "source": [
    "#1. Define a function named is_two. It should accept one input and return True if the passed input is either the number or the string 2, False otherwise.\n",
    "\n",
    "def is_two(x):\n",
    "    if x == 2 or x == \"2\":\n",
    "        return True\n",
    "    else: \n",
    "        return False\n",
    "    \n",
    "print(is_two(2))\n",
    "print(is_two(\"2\"))\n",
    "print(is_two(3))\n",
    "print(is_two(\"3\")) "
   ]
  },
  {
   "cell_type": "code",
   "execution_count": 3,
   "metadata": {},
   "outputs": [
    {
     "name": "stdout",
     "output_type": "stream",
     "text": [
      "True\n",
      "False\n",
      "True\n",
      "False\n"
     ]
    }
   ],
   "source": [
    "#2. Define a function named is_vowel. It should return True if the passed string is a vowel, False otherwise.\n",
    "\n",
    "def is_vowel(vowel):\n",
    "    vowels = \"aeiouAEIOU\"\n",
    "    if vowel in vowels:\n",
    "        return True\n",
    "    else:\n",
    "        return False\n",
    "    \n",
    "print(is_vowel(\"a\"))\n",
    "print(is_vowel(\"b\"))\n",
    "print(is_vowel(\"A\"))\n",
    "print(is_vowel(\"B\")) "
   ]
  },
  {
   "cell_type": "code",
   "execution_count": 4,
   "metadata": {},
   "outputs": [
    {
     "name": "stdout",
     "output_type": "stream",
     "text": [
      "False\n",
      "True\n",
      "False\n",
      "True\n"
     ]
    }
   ],
   "source": [
    "#3. Define a function named is_consonant. It should return True if the passed string is a consonant, False otherwise. Use your is_vowel function to accomplish this.\n",
    "\n",
    "def is_consonant(consonant):\n",
    "    vowels = \"aeiouAEIOU\"\n",
    "    if consonant not in vowels:\n",
    "        return True\n",
    "    else:\n",
    "        return False\n",
    "    \n",
    "print(is_consonant(\"a\"))\n",
    "print(is_consonant(\"b\"))\n",
    "print(is_consonant(\"A\"))\n",
    "print(is_consonant(\"B\")) "
   ]
  },
  {
   "cell_type": "code",
   "execution_count": 5,
   "metadata": {},
   "outputs": [
    {
     "name": "stdout",
     "output_type": "stream",
     "text": [
      "Great job!\n"
     ]
    }
   ],
   "source": [
    "#4. Define a function that accepts a string that is a word. The function should capitalize the first letter of the word if the word starts with a consonant.\n",
    "\n",
    "def cap_if_consonant(x):\n",
    "    vowels = 'aeiouAEIOU'\n",
    "    for letter in vowels:\n",
    "        if x[0] in vowels:\n",
    "            return x\n",
    "        else:\n",
    "            return x.capitalize()\n",
    "        \n",
    "print(cap_if_consonant(\"great job!\"))"
   ]
  },
  {
   "cell_type": "code",
   "execution_count": 6,
   "metadata": {},
   "outputs": [
    {
     "name": "stdout",
     "output_type": "stream",
     "text": [
      "$1.5\n"
     ]
    }
   ],
   "source": [
    "#5. Define a function named calculate_tip. It should accept a tip percentage (a number between 0 and 1) and the bill total, and return the amount to tip.\n",
    "\n",
    "def calculate_tip(x, y):\n",
    "    bill_total = x\n",
    "    tip_percentage = y\n",
    "    tip = bill_total * tip_percentage\n",
    "    return (f\"${tip}\")\n",
    "\n",
    "print(calculate_tip(10, 0.15))"
   ]
  },
  {
   "cell_type": "code",
   "execution_count": 7,
   "metadata": {},
   "outputs": [
    {
     "name": "stdout",
     "output_type": "stream",
     "text": [
      "$8.0\n"
     ]
    }
   ],
   "source": [
    "#6. Define a function named apply_discount. It should accept an original price, and a discount percentage, and return the price after the discount is applied.\n",
    "\n",
    "def apply_discount(x, y):\n",
    "    original_price = x\n",
    "    discount_percentage = y\n",
    "    total = original_price - (original_price * discount_percentage)\n",
    "    return (f\"${total}\")\n",
    "\n",
    "print(apply_discount(10, 0.2))"
   ]
  },
  {
   "cell_type": "code",
   "execution_count": 8,
   "metadata": {},
   "outputs": [
    {
     "name": "stdout",
     "output_type": "stream",
     "text": [
      "1000000\n"
     ]
    }
   ],
   "source": [
    "#7. Define a function named handle_commas. It should accept a string that is a number that contains commas in it as input, and return a number as output.\n",
    "\n",
    "def handle_commas(x):\n",
    "    no_commas = int(x.replace(\",\" , \"\"))  \n",
    "    return (no_commas)  \n",
    "\n",
    "print(handle_commas('1,000,000'))"
   ]
  },
  {
   "cell_type": "code",
   "execution_count": 9,
   "metadata": {},
   "outputs": [
    {
     "name": "stdout",
     "output_type": "stream",
     "text": [
      "95 is an A\n",
      "85 is a B\n",
      "75 is a C\n",
      "65 is a D\n",
      "55 is an F\n",
      "0 is an F\n",
      "Please enter a grade between 0-100\n",
      "No negative numbers\n"
     ]
    }
   ],
   "source": [
    "#8. Define a function named get_letter_grade. It should accept a number and return the letter grade associated with that number (A-F).\n",
    "\n",
    "def get_letter_grade(grade):\n",
    "    if grade >= 100:\n",
    "        print('Please enter a grade between 0-100')\n",
    "    elif grade >= 90 :\n",
    "        print(f'{grade} is an A')\n",
    "    elif grade >= 80:\n",
    "        print(f'{grade} is a B')\n",
    "    elif grade >= 70:\n",
    "        print(f'{grade} is a C')\n",
    "    elif grade >= 60:\n",
    "        print(f'{grade} is a D')\n",
    "    elif grade <= 59 and grade >=0:\n",
    "        print(f'{grade} is an F')\n",
    "    else: \n",
    "        print('No negative numbers')\n",
    "        \n",
    "get_letter_grade(95)\n",
    "get_letter_grade(85)\n",
    "get_letter_grade(75)\n",
    "get_letter_grade(65)\n",
    "get_letter_grade(55)\n",
    "get_letter_grade(0)\n",
    "get_letter_grade(105)\n",
    "get_letter_grade(-5)"
   ]
  },
  {
   "cell_type": "code",
   "execution_count": 10,
   "metadata": {},
   "outputs": [
    {
     "name": "stdout",
     "output_type": "stream",
     "text": [
      "Hll Cdp!\n"
     ]
    }
   ],
   "source": [
    "#9. Define a function named remove_vowels that accepts a string and returns a string with all the vowels removed.\n",
    "\n",
    "def remove_vowels(string):\n",
    "    vowels = ('a', 'e', 'i', 'o', 'u')\n",
    "    for x in string.lower():\n",
    "        if x in vowels:\n",
    "            string = string.replace(x,\"\")\n",
    "    return string\n",
    "\n",
    "print(remove_vowels(\"Hello Codeup!\"))"
   ]
  },
  {
   "cell_type": "code",
   "execution_count": 11,
   "metadata": {},
   "outputs": [
    {
     "name": "stdout",
     "output_type": "stream",
     "text": [
      "one+one is NOT a valid identifier\n",
      "\n",
      "dani_bojado is a valid identifier\n",
      "dani_bojado\n"
     ]
    }
   ],
   "source": [
    "#10. Define a function named normalize_name. It should accept a string and return a valid python identifier, that is:\n",
    "#anything that is not a valid python identifier should be removed\n",
    "#leading and trailing whitespace should be removed\n",
    "#everything should be lowercase\n",
    "#spaces should be replaced with underscores\n",
    "\n",
    "#for example:\n",
    "#Name will become name\n",
    "#First Name will become first_name\n",
    "#Completed will become completed\n",
    "\n",
    "def normalize_name(text):\n",
    "    new_string = (text.strip(\"0123456789 \").lower().replace(\" \", \"_\"))\n",
    "    output = \"\"\n",
    "    if new_string.isidentifier() == True:\n",
    "        print(new_string, 'is a valid identifier')\n",
    "        for i in new_string:\n",
    "            if i not in \"!@#$%^&*()+=-[]{}\\/|?.<>,`~\":\n",
    "                output += i\n",
    "    else: \n",
    "        print(new_string, 'is NOT a valid identifier')\n",
    "    return print(output)\n",
    "\n",
    "normalize_name(\"one+one\")\n",
    "normalize_name(\" Dani Bojado \") "
   ]
  },
  {
   "cell_type": "code",
   "execution_count": 12,
   "metadata": {},
   "outputs": [
    {
     "name": "stdout",
     "output_type": "stream",
     "text": [
      "[1, 2, 3]\n",
      "[1, 3, 6, 10]\n"
     ]
    }
   ],
   "source": [
    "#11. Write a function named cumulative_sum that accepts a list of numbers and returns a list that is the cumulative sum of the numbers in the list.\n",
    "#cumulative_sum([1, 1, 1]) returns [1, 2, 3]\n",
    "#cumulative_sum([1, 2, 3, 4]) returns [1, 3, 6, 10]\n",
    "\n",
    "def cumulative_sum(num_list):\n",
    "    return [sum(num_list[:i+1]) for i in range(len(num_list))]\n",
    "\n",
    "print(cumulative_sum([1,1,1]))\n",
    "print(cumulative_sum([1,2,3,4])) "
   ]
  },
  {
   "cell_type": "markdown",
   "metadata": {},
   "source": [
    "# Bonus"
   ]
  },
  {
   "cell_type": "code",
   "execution_count": 14,
   "metadata": {},
   "outputs": [],
   "source": [
    "#1. Create a function named twelveto24. It should accept a string in the format 10:45am or 4:30pm and return a string that is the representation of the time in a 24-hour format. Bonus write a function that does the opposite."
   ]
  },
  {
   "cell_type": "code",
   "execution_count": 15,
   "metadata": {},
   "outputs": [],
   "source": [
    "#2. Create a function named col_index. It should accept a spreadsheet column name, and return the index number of the column."
   ]
  }
 ],
 "metadata": {
  "kernelspec": {
   "display_name": "Python 3",
   "language": "python",
   "name": "python3"
  },
  "language_info": {
   "codemirror_mode": {
    "name": "ipython",
    "version": 3
   },
   "file_extension": ".py",
   "mimetype": "text/x-python",
   "name": "python",
   "nbconvert_exporter": "python",
   "pygments_lexer": "ipython3",
   "version": "3.7.6"
  }
 },
 "nbformat": 4,
 "nbformat_minor": 4
}
